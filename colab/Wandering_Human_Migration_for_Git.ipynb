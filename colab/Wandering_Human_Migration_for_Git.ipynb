{
  "nbformat": 4,
  "nbformat_minor": 0,
  "metadata": {
    "colab": {
      "name": "Wandering Human Migration for Git.ipynb",
      "provenance": [],
      "authorship_tag": "ABX9TyNoBOR5OEAo6jSltpjc6WNa",
      "include_colab_link": true
    },
    "kernelspec": {
      "name": "python3",
      "display_name": "Python 3"
    },
    "language_info": {
      "name": "python"
    }
  },
  "cells": [
    {
      "cell_type": "markdown",
      "metadata": {
        "id": "view-in-github",
        "colab_type": "text"
      },
      "source": [
        "<a href=\"https://colab.research.google.com/github/davemccampbell/wandering-Human-Migration/blob/main/colab/Wandering_Human_Migration_for_Git.ipynb\" target=\"_parent\"><img src=\"https://colab.research.google.com/assets/colab-badge.svg\" alt=\"Open In Colab\"/></a>"
      ]
    },
    {
      "cell_type": "code",
      "metadata": {
        "id": "fnJ67_7uOwPq"
      },
      "source": [
        "#Here is the source for the dataset:\n",
        "#data link https://www.kaggle.com/eliasdabbas/migration-data-worldbank-1960-2018\n",
        "\n",
        "#Conducting Data Analysis on the following variables:\n",
        "#Population\n",
        "#Net migration: the total number of immigrants less the annual number of emigrants, including both citizens and non-citizens \n",
        "#Year\n",
        "#Latitude \n",
        "#Income level  \n",
        "\n",
        "#Alternative hypothesis 1: From 1960 to 2018, there is statistical significance in net migration among those who qualify as falling into the “High” income level/tier per World Bank classifications, as compared to those those who qualify at lower income levels/tiers.\n",
        "#Alternative hypothesis 2: There is statistical significance in net migration among nations that lie within tropical latitudinal zones when compared with nations that lie within both the northern as well as southern subtropical latitudinal zones, from 1960 to 2018, respectively. \n",
        "# *Latitudinal zones are defined by the American Meteorological Society. https://glossary.ametsoc.org/wiki/Subtropics\n"
      ],
      "execution_count": null,
      "outputs": []
    },
    {
      "cell_type": "markdown",
      "metadata": {
        "id": "c3x4tOTDDMc4"
      },
      "source": [
        "# **IMPORT MODULES**"
      ]
    },
    {
      "cell_type": "code",
      "metadata": {
        "id": "gDbpwv2ou-Zp"
      },
      "source": [
        "# import & alias modules\n",
        "import math \n",
        "from scipy import stats\n",
        "import seaborn as sns \n",
        "import matplotlib.pyplot as plt\n",
        "sns.set()\n"
      ],
      "execution_count": 1,
      "outputs": []
    },
    {
      "cell_type": "markdown",
      "metadata": {
        "id": "UL2RKab8DWJt"
      },
      "source": [
        "# **BRING IN THE DATASET**"
      ]
    },
    {
      "cell_type": "code",
      "metadata": {
        "id": "nSvxk8PeOo2s"
      },
      "source": [
        "#read in data\n",
        "import pandas as pd\n",
        "from pandas_datareader import wb\n",
        "\n",
        "wb_countries = wb.get_countries()\n",
        "country_list = wb_countries[wb_countries['region']!='Aggregates']['name'].reset_index(drop=True)\n",
        "\n",
        "indicator_ids = ['EN.POP.DNST', 'SP.POP.TOTL', 'SM.POP.NETM']\n",
        "\n",
        "migration = wb.WorldBankReader(symbols=['SM.POP.NETM'], start=1950, end=2018, countries='all').read()\n",
        "pop_density = wb.WorldBankReader(symbols=['EN.POP.DNST'], start=1950, end=2018, countries='all').read()\n",
        "population = wb.WorldBankReader(symbols=['SP.POP.TOTL'], start=1950, end=2018, countries='all').read()\n",
        "\n",
        "pop_density_countries = pop_density.reset_index()#.query('country in @country_list').reset_index(drop=True)\n",
        "population_countries = population.reset_index()#.query('country in @country_list').reset_index(drop=True)\n",
        "migration_countries = migration.reset_index()#.query('country in @country_list').reset_index(drop=True)\n",
        "\n",
        "pop_density_merged = pd.merge(population_countries, pop_density_countries, on=['country', 'year'], how='outer')\n",
        "migration_final = (pd.merge(pop_density_merged, migration_countries, on=['country', 'year'], how='outer')\n",
        "                   .rename(columns={'SP.POP.TOTL': 'population',\n",
        "                                    'EN.POP.DNST': 'pop_density',\n",
        "                                    'SM.POP.NETM': 'net_migration'})\n",
        "                   .assign(migration_perc=lambda df: df['net_migration'].div(df['population'])))\n",
        "\n",
        "migration_final = pd.merge(migration_final, wb_countries, how='left', left_on='country', right_on='name')\n",
        "migration_final.drop('name', axis=1).to_csv('migration_population.csv', index=False)"
      ],
      "execution_count": 2,
      "outputs": []
    },
    {
      "cell_type": "code",
      "metadata": {
        "id": "OK5zjPAXBf1_"
      },
      "source": [
        ""
      ],
      "execution_count": null,
      "outputs": []
    },
    {
      "cell_type": "code",
      "metadata": {
        "colab": {
          "base_uri": "https://localhost:8080/"
        },
        "id": "R6tl3h_rPOO3",
        "outputId": "0711e251-afaa-4fae-a29c-21f350aab8cc"
      },
      "source": [
        "migration_final.info()  #see the information in our dataframe"
      ],
      "execution_count": null,
      "outputs": [
        {
          "output_type": "stream",
          "text": [
            "<class 'pandas.core.frame.DataFrame'>\n",
            "Int64Index: 15694 entries, 0 to 15693\n",
            "Data columns (total 16 columns):\n",
            " #   Column          Non-Null Count  Dtype  \n",
            "---  ------          --------------  -----  \n",
            " 0   country         15694 non-null  object \n",
            " 1   year            15694 non-null  object \n",
            " 2   population      15595 non-null  float64\n",
            " 3   pop_density     15128 non-null  float64\n",
            " 4   net_migration   2904 non-null   float64\n",
            " 5   migration_perc  2895 non-null   float64\n",
            " 6   iso3c           15576 non-null  object \n",
            " 7   iso2c           15576 non-null  object \n",
            " 8   name            15576 non-null  object \n",
            " 9   region          15576 non-null  object \n",
            " 10  adminregion     15576 non-null  object \n",
            " 11  incomeLevel     15576 non-null  object \n",
            " 12  lendingType     15576 non-null  object \n",
            " 13  capitalCity     15576 non-null  object \n",
            " 14  longitude       12449 non-null  float64\n",
            " 15  latitude        12449 non-null  float64\n",
            "dtypes: float64(6), object(10)\n",
            "memory usage: 2.0+ MB\n"
          ],
          "name": "stdout"
        }
      ]
    },
    {
      "cell_type": "code",
      "metadata": {
        "id": "Xqx6XVgPRes2"
      },
      "source": [
        "migration_final.head()  #see the first five rows"
      ],
      "execution_count": null,
      "outputs": []
    },
    {
      "cell_type": "code",
      "metadata": {
        "id": "z05q6NZvRY-3"
      },
      "source": [
        "migration_final.describe() #see the descriptive statistics"
      ],
      "execution_count": null,
      "outputs": []
    },
    {
      "cell_type": "code",
      "metadata": {
        "id": "c1oHYVDPTGGf"
      },
      "source": [
        "migration_final.columns #see the columns"
      ],
      "execution_count": null,
      "outputs": []
    },
    {
      "cell_type": "code",
      "metadata": {
        "id": "0TtK1QF_aqM1"
      },
      "source": [
        "# convert column to datetime pandas  \n",
        " #clean the data\n",
        "\n",
        "migration_final['year']=pd.to_datetime(migration_final['year'])\n",
        "clean_mig_data=migration_final.dropna()"
      ],
      "execution_count": null,
      "outputs": []
    },
    {
      "cell_type": "code",
      "metadata": {
        "id": "U5hgi7JBWPz-",
        "colab": {
          "base_uri": "https://localhost:8080/"
        },
        "outputId": "5fcd3177-4869-44eb-f982-1b9c0c1758fd"
      },
      "source": [
        "clean_mig_data.info() #verify datatypes with a .info sanity check"
      ],
      "execution_count": null,
      "outputs": [
        {
          "output_type": "stream",
          "text": [
            "<class 'pandas.core.frame.DataFrame'>\n",
            "Int64Index: 2265 entries, 2892 to 15691\n",
            "Data columns (total 16 columns):\n",
            " #   Column          Non-Null Count  Dtype         \n",
            "---  ------          --------------  -----         \n",
            " 0   country         2265 non-null   object        \n",
            " 1   year            2265 non-null   datetime64[ns]\n",
            " 2   population      2265 non-null   float64       \n",
            " 3   pop_density     2265 non-null   float64       \n",
            " 4   net_migration   2265 non-null   float64       \n",
            " 5   migration_perc  2265 non-null   float64       \n",
            " 6   iso3c           2265 non-null   object        \n",
            " 7   iso2c           2265 non-null   object        \n",
            " 8   name            2265 non-null   object        \n",
            " 9   region          2265 non-null   object        \n",
            " 10  adminregion     2265 non-null   object        \n",
            " 11  incomeLevel     2265 non-null   object        \n",
            " 12  lendingType     2265 non-null   object        \n",
            " 13  capitalCity     2265 non-null   object        \n",
            " 14  longitude       2265 non-null   float64       \n",
            " 15  latitude        2265 non-null   float64       \n",
            "dtypes: datetime64[ns](1), float64(6), object(9)\n",
            "memory usage: 300.8+ KB\n"
          ],
          "name": "stdout"
        }
      ]
    },
    {
      "cell_type": "markdown",
      "metadata": {
        "id": "XEOyoiNnemJE"
      },
      "source": [
        "# **EXPLORE THE DATASET**"
      ]
    },
    {
      "cell_type": "code",
      "metadata": {
        "id": "Iz4aQ10nSfMI"
      },
      "source": [
        "#explore the dataset EDA"
      ],
      "execution_count": null,
      "outputs": []
    },
    {
      "cell_type": "code",
      "metadata": {
        "id": "Ys9UvNgScyvu"
      },
      "source": [
        "pd.set_option(\"max_rows\", None)  #cursory exploration\n",
        "clean_mig_data"
      ],
      "execution_count": null,
      "outputs": []
    },
    {
      "cell_type": "code",
      "metadata": {
        "id": "RIubw5wjkihB"
      },
      "source": [
        "#make a pairplot of the dataframe\n",
        "sns.pairplot(clean_mig_data)\n",
        " \n"
      ],
      "execution_count": null,
      "outputs": []
    },
    {
      "cell_type": "code",
      "metadata": {
        "id": "XO8GBQ9cS2Jv"
      },
      "source": [
        "clean_mig_data.sort_values(by='net_migration', ascending=True) #explore net migration. a negative integer implicates emigration out of their respected native region/country/zone."
      ],
      "execution_count": null,
      "outputs": []
    },
    {
      "cell_type": "code",
      "metadata": {
        "id": "qa44eXei_Mvk"
      },
      "source": [
        "clean_mig_data.sort_values(by='net_migration', ascending=False) #explore net migration in descending order. a positve integer implicates immigration coming into a native region/country/zone. \n"
      ],
      "execution_count": null,
      "outputs": []
    },
    {
      "cell_type": "code",
      "metadata": {
        "colab": {
          "base_uri": "https://localhost:8080/",
          "height": 302
        },
        "id": "YXVl8pxKleWa",
        "outputId": "c599b01b-b1eb-4fc6-e126-6849fbc4745a"
      },
      "source": [
        "#make a scatterplot visualizing the relationship between net_migration and latitude.\n",
        "sns.scatterplot(x='net_migration', y='latitude', data=clean_mig_data) "
      ],
      "execution_count": null,
      "outputs": [
        {
          "output_type": "execute_result",
          "data": {
            "text/plain": [
              "<matplotlib.axes._subplots.AxesSubplot at 0x7f30d5d1ea50>"
            ]
          },
          "metadata": {
            "tags": []
          },
          "execution_count": 32
        },
        {
          "output_type": "display_data",
          "data": {
            "image/png": "[encoded data removed]",
            "text/plain": [
              "<Figure size 432x288 with 1 Axes>"
            ]
          },
          "metadata": {
            "tags": [],
            "needs_background": "light"
          }
        }
      ]
    },
    {
      "cell_type": "code",
      "metadata": {
        "id": "gym8MBC3kxOK"
      },
      "source": [
        "#explore net migration among latitude zones as defined by AMS: tropical zone, northern subtropical zone, southern subtropical zone, arctic zone, antarctic zone\n",
        "tropics_beta=(clean_mig_data['latitude']>=-23.5) & (clean_mig_data['latitude']<=23.5) \n",
        "tropics=clean_mig_data.iloc[tropics_beta.values,[0,1,4,5,15]]\n",
        "subtrop_n=(clean_mig_data['latitude']>=23.6) & (clean_mig_data['latitude']<=60.0)\n",
        "subtropics_north=clean_mig_data.iloc[subtrop_n.values,[0,1,4,5,15]]\n",
        "subtrop_s=(clean_mig_data['latitude']<=-23.6) & (clean_mig_data['latitude']>=-60.0)\n",
        "subtropics_south=clean_mig_data.iloc[subtrop_s.values,[0,1,4,5,15]]\n",
        "antarctic_beta=(clean_mig_data['latitude']<=-60) \n",
        "antarctic=clean_mig_data.iloc[antarctic_beta.values,[0,1,4,5,15]]\n",
        "arctic_beta=(clean_mig_data['latitude']>=60) \n",
        "arctic=clean_mig_data.iloc[arctic_beta.values,[0,1,4,5,15]]\n",
        "pd.set_option(\"max_rows\", None)\n",
        "\n",
        "\n"
      ],
      "execution_count": null,
      "outputs": []
    },
    {
      "cell_type": "code",
      "metadata": {
        "colab": {
          "base_uri": "https://localhost:8080/",
          "height": 302
        },
        "id": "1mz10QeHf7VW",
        "outputId": "95e41ba0-eb4a-42ad-f284-89b76922809d"
      },
      "source": [
        "sns.histplot(tropics['net_migration'], bins=30, kde=True) #plot the distribution of net migration within the tropical zone. \n",
        "#negative integers point to more emigration out of nations within this zone, than immigration into nations within this zone."
      ],
      "execution_count": null,
      "outputs": [
        {
          "output_type": "execute_result",
          "data": {
            "text/plain": [
              "<matplotlib.axes._subplots.AxesSubplot at 0x7f30d7f21350>"
            ]
          },
          "metadata": {
            "tags": []
          },
          "execution_count": 28
        },
        {
          "output_type": "display_data",
          "data": {
            "image/png": "[encoded data removed]",
            "text/plain": [
              "<Figure size 432x288 with 1 Axes>"
            ]
          },
          "metadata": {
            "tags": [],
            "needs_background": "light"
          }
        }
      ]
    },
    {
      "cell_type": "code",
      "metadata": {
        "colab": {
          "base_uri": "https://localhost:8080/",
          "height": 302
        },
        "id": "pQZbnMAtkYtE",
        "outputId": "2de52c86-93ec-403b-f982-c965fe89aab0"
      },
      "source": [
        "sns.histplot(subtropics_north['net_migration'], bins=30, kde=True) #plot the distribution of net migration within the northern subtropical zone.\n",
        "#observe, positive integers point to more immigration within this zone, comapared to immigration with the tropical zone, pictured above."
      ],
      "execution_count": null,
      "outputs": [
        {
          "output_type": "execute_result",
          "data": {
            "text/plain": [
              "<matplotlib.axes._subplots.AxesSubplot at 0x7f30d5ed78d0>"
            ]
          },
          "metadata": {
            "tags": []
          },
          "execution_count": 29
        },
        {
          "output_type": "display_data",
          "data": {
            "image/png": "[encoded data removed]",
            "text/plain": [
              "<Figure size 432x288 with 1 Axes>"
            ]
          },
          "metadata": {
            "tags": [],
            "needs_background": "light"
          }
        }
      ]
    },
    {
      "cell_type": "code",
      "metadata": {
        "colab": {
          "base_uri": "https://localhost:8080/",
          "height": 302
        },
        "id": "wyz-e8Apkmtz",
        "outputId": "aeec3e5e-abef-4ccc-dca6-c42557ea1588"
      },
      "source": [
        "sns.histplot(subtropics_south['net_migration'], bins=30, kde=True) #plot the distribution in the southern subtropical zone.\n",
        "#observe overall less net migration in the souther subtropical zone as compared to the tropical and northern subtropical zones, pictured above."
      ],
      "execution_count": null,
      "outputs": [
        {
          "output_type": "execute_result",
          "data": {
            "text/plain": [
              "<matplotlib.axes._subplots.AxesSubplot at 0x7f30d5da8e90>"
            ]
          },
          "metadata": {
            "tags": []
          },
          "execution_count": 30
        },
        {
          "output_type": "display_data",
          "data": {
            "image/png": "[encoded data removed]",
            "text/plain": [
              "<Figure size 432x288 with 1 Axes>"
            ]
          },
          "metadata": {
            "tags": [],
            "needs_background": "light"
          }
        }
      ]
    },
    {
      "cell_type": "markdown",
      "metadata": {
        "id": "oFqZ3HxRu4Wb"
      },
      "source": [
        "The distribution of the above three histograms are not approximately normal.\n"
      ]
    },
    {
      "cell_type": "code",
      "metadata": {
        "colab": {
          "base_uri": "https://localhost:8080/",
          "height": 295
        },
        "id": "L79SBWzxEGls",
        "outputId": "ab573a1b-1e7c-4328-ee66-e6c02dbc5ab7"
      },
      "source": [
        "subtropics_north.describe() #use descritpive statistics "
      ],
      "execution_count": null,
      "outputs": [
        {
          "output_type": "execute_result",
          "data": {
            "text/html": [
              "<div>\n",
              "<style scoped>\n",
              "    .dataframe tbody tr th:only-of-type {\n",
              "        vertical-align: middle;\n",
              "    }\n",
              "\n",
              "    .dataframe tbody tr th {\n",
              "        vertical-align: top;\n",
              "    }\n",
              "\n",
              "    .dataframe thead th {\n",
              "        text-align: right;\n",
              "    }\n",
              "</style>\n",
              "<table border=\"1\" class=\"dataframe\">\n",
              "  <thead>\n",
              "    <tr style=\"text-align: right;\">\n",
              "      <th></th>\n",
              "      <th>net_migration</th>\n",
              "      <th>migration_perc</th>\n",
              "      <th>latitude</th>\n",
              "    </tr>\n",
              "  </thead>\n",
              "  <tbody>\n",
              "    <tr>\n",
              "      <th>count</th>\n",
              "      <td>9.270000e+02</td>\n",
              "      <td>927.000000</td>\n",
              "      <td>927.000000</td>\n",
              "    </tr>\n",
              "    <tr>\n",
              "      <th>mean</th>\n",
              "      <td>6.974432e+04</td>\n",
              "      <td>0.010324</td>\n",
              "      <td>41.084461</td>\n",
              "    </tr>\n",
              "    <tr>\n",
              "      <th>std</th>\n",
              "      <td>7.879399e+05</td>\n",
              "      <td>0.068595</td>\n",
              "      <td>9.514358</td>\n",
              "    </tr>\n",
              "    <tr>\n",
              "      <th>min</th>\n",
              "      <td>-5.386986e+06</td>\n",
              "      <td>-0.263566</td>\n",
              "      <td>23.610500</td>\n",
              "    </tr>\n",
              "    <tr>\n",
              "      <th>25%</th>\n",
              "      <td>-9.701150e+04</td>\n",
              "      <td>-0.008648</td>\n",
              "      <td>33.990500</td>\n",
              "    </tr>\n",
              "    <tr>\n",
              "      <th>50%</th>\n",
              "      <td>1.430000e+02</td>\n",
              "      <td>0.000055</td>\n",
              "      <td>40.416700</td>\n",
              "    </tr>\n",
              "    <tr>\n",
              "      <th>75%</th>\n",
              "      <td>9.606000e+04</td>\n",
              "      <td>0.014140</td>\n",
              "      <td>48.184250</td>\n",
              "    </tr>\n",
              "    <tr>\n",
              "      <th>max</th>\n",
              "      <td>8.859954e+06</td>\n",
              "      <td>0.787049</td>\n",
              "      <td>59.913800</td>\n",
              "    </tr>\n",
              "  </tbody>\n",
              "</table>\n",
              "</div>"
            ],
            "text/plain": [
              "       net_migration  migration_perc    latitude\n",
              "count   9.270000e+02      927.000000  927.000000\n",
              "mean    6.974432e+04        0.010324   41.084461\n",
              "std     7.879399e+05        0.068595    9.514358\n",
              "min    -5.386986e+06       -0.263566   23.610500\n",
              "25%    -9.701150e+04       -0.008648   33.990500\n",
              "50%     1.430000e+02        0.000055   40.416700\n",
              "75%     9.606000e+04        0.014140   48.184250\n",
              "max     8.859954e+06        0.787049   59.913800"
            ]
          },
          "metadata": {
            "tags": []
          },
          "execution_count": 34
        }
      ]
    },
    {
      "cell_type": "code",
      "metadata": {
        "colab": {
          "base_uri": "https://localhost:8080/",
          "height": 295
        },
        "id": "3EspxLhAOhGs",
        "outputId": "6a6b9b36-b81e-407d-8aeb-ca270a4d0a39"
      },
      "source": [
        "subtropics_south.describe()  #use descritpive statistics "
      ],
      "execution_count": null,
      "outputs": [
        {
          "output_type": "execute_result",
          "data": {
            "text/html": [
              "<div>\n",
              "<style scoped>\n",
              "    .dataframe tbody tr th:only-of-type {\n",
              "        vertical-align: middle;\n",
              "    }\n",
              "\n",
              "    .dataframe tbody tr th {\n",
              "        vertical-align: top;\n",
              "    }\n",
              "\n",
              "    .dataframe thead th {\n",
              "        text-align: right;\n",
              "    }\n",
              "</style>\n",
              "<table border=\"1\" class=\"dataframe\">\n",
              "  <thead>\n",
              "    <tr style=\"text-align: right;\">\n",
              "      <th></th>\n",
              "      <th>net_migration</th>\n",
              "      <th>migration_perc</th>\n",
              "      <th>latitude</th>\n",
              "    </tr>\n",
              "  </thead>\n",
              "  <tbody>\n",
              "    <tr>\n",
              "      <th>count</th>\n",
              "      <td>1.320000e+02</td>\n",
              "      <td>132.000000</td>\n",
              "      <td>132.000000</td>\n",
              "    </tr>\n",
              "    <tr>\n",
              "      <th>mean</th>\n",
              "      <td>7.630019e+04</td>\n",
              "      <td>-0.002988</td>\n",
              "      <td>-30.660000</td>\n",
              "    </tr>\n",
              "    <tr>\n",
              "      <th>std</th>\n",
              "      <td>2.999171e+05</td>\n",
              "      <td>0.024700</td>\n",
              "      <td>5.286937</td>\n",
              "    </tr>\n",
              "    <tr>\n",
              "      <th>min</th>\n",
              "      <td>-1.336060e+06</td>\n",
              "      <td>-0.104491</td>\n",
              "      <td>-41.286500</td>\n",
              "    </tr>\n",
              "    <tr>\n",
              "      <th>25%</th>\n",
              "      <td>-4.670750e+04</td>\n",
              "      <td>-0.017547</td>\n",
              "      <td>-34.894100</td>\n",
              "    </tr>\n",
              "    <tr>\n",
              "      <th>50%</th>\n",
              "      <td>-1.076300e+04</td>\n",
              "      <td>-0.002993</td>\n",
              "      <td>-29.520800</td>\n",
              "    </tr>\n",
              "    <tr>\n",
              "      <th>75%</th>\n",
              "      <td>9.480875e+04</td>\n",
              "      <td>0.011634</td>\n",
              "      <td>-25.746000</td>\n",
              "    </tr>\n",
              "    <tr>\n",
              "      <th>max</th>\n",
              "      <td>1.210802e+06</td>\n",
              "      <td>0.068327</td>\n",
              "      <td>-24.654400</td>\n",
              "    </tr>\n",
              "  </tbody>\n",
              "</table>\n",
              "</div>"
            ],
            "text/plain": [
              "       net_migration  migration_perc    latitude\n",
              "count   1.320000e+02      132.000000  132.000000\n",
              "mean    7.630019e+04       -0.002988  -30.660000\n",
              "std     2.999171e+05        0.024700    5.286937\n",
              "min    -1.336060e+06       -0.104491  -41.286500\n",
              "25%    -4.670750e+04       -0.017547  -34.894100\n",
              "50%    -1.076300e+04       -0.002993  -29.520800\n",
              "75%     9.480875e+04        0.011634  -25.746000\n",
              "max     1.210802e+06        0.068327  -24.654400"
            ]
          },
          "metadata": {
            "tags": []
          },
          "execution_count": 35
        }
      ]
    },
    {
      "cell_type": "code",
      "metadata": {
        "colab": {
          "base_uri": "https://localhost:8080/",
          "height": 295
        },
        "id": "vHdyLd3SOnx-",
        "outputId": "858b0426-bf3c-4aaa-8a91-0953d3cdbaa1"
      },
      "source": [
        "tropics.describe() #use descritpive statistics "
      ],
      "execution_count": null,
      "outputs": [
        {
          "output_type": "execute_result",
          "data": {
            "text/html": [
              "<div>\n",
              "<style scoped>\n",
              "    .dataframe tbody tr th:only-of-type {\n",
              "        vertical-align: middle;\n",
              "    }\n",
              "\n",
              "    .dataframe tbody tr th {\n",
              "        vertical-align: top;\n",
              "    }\n",
              "\n",
              "    .dataframe thead th {\n",
              "        text-align: right;\n",
              "    }\n",
              "</style>\n",
              "<table border=\"1\" class=\"dataframe\">\n",
              "  <thead>\n",
              "    <tr style=\"text-align: right;\">\n",
              "      <th></th>\n",
              "      <th>net_migration</th>\n",
              "      <th>migration_perc</th>\n",
              "      <th>latitude</th>\n",
              "    </tr>\n",
              "  </thead>\n",
              "  <tbody>\n",
              "    <tr>\n",
              "      <th>count</th>\n",
              "      <td>1.182000e+03</td>\n",
              "      <td>1182.000000</td>\n",
              "      <td>1182.000000</td>\n",
              "    </tr>\n",
              "    <tr>\n",
              "      <th>mean</th>\n",
              "      <td>-6.262403e+04</td>\n",
              "      <td>-0.010467</td>\n",
              "      <td>4.556195</td>\n",
              "    </tr>\n",
              "    <tr>\n",
              "      <th>std</th>\n",
              "      <td>2.894579e+05</td>\n",
              "      <td>0.044606</td>\n",
              "      <td>12.283948</td>\n",
              "    </tr>\n",
              "    <tr>\n",
              "      <th>min</th>\n",
              "      <td>-3.266243e+06</td>\n",
              "      <td>-0.241790</td>\n",
              "      <td>-22.564800</td>\n",
              "    </tr>\n",
              "    <tr>\n",
              "      <th>25%</th>\n",
              "      <td>-8.000675e+04</td>\n",
              "      <td>-0.023622</td>\n",
              "      <td>-4.276700</td>\n",
              "    </tr>\n",
              "    <tr>\n",
              "      <th>50%</th>\n",
              "      <td>-9.817500e+03</td>\n",
              "      <td>-0.006870</td>\n",
              "      <td>6.917710</td>\n",
              "    </tr>\n",
              "    <tr>\n",
              "      <th>75%</th>\n",
              "      <td>1.016750e+03</td>\n",
              "      <td>0.000725</td>\n",
              "      <td>13.730800</td>\n",
              "    </tr>\n",
              "    <tr>\n",
              "      <th>max</th>\n",
              "      <td>1.796103e+06</td>\n",
              "      <td>0.374022</td>\n",
              "      <td>23.133300</td>\n",
              "    </tr>\n",
              "  </tbody>\n",
              "</table>\n",
              "</div>"
            ],
            "text/plain": [
              "       net_migration  migration_perc     latitude\n",
              "count   1.182000e+03     1182.000000  1182.000000\n",
              "mean   -6.262403e+04       -0.010467     4.556195\n",
              "std     2.894579e+05        0.044606    12.283948\n",
              "min    -3.266243e+06       -0.241790   -22.564800\n",
              "25%    -8.000675e+04       -0.023622    -4.276700\n",
              "50%    -9.817500e+03       -0.006870     6.917710\n",
              "75%     1.016750e+03        0.000725    13.730800\n",
              "max     1.796103e+06        0.374022    23.133300"
            ]
          },
          "metadata": {
            "tags": []
          },
          "execution_count": 33
        }
      ]
    },
    {
      "cell_type": "code",
      "metadata": {
        "id": "GXSk7qiHm95H"
      },
      "source": [
        "pd.set_option(\"max_rows\", None) \n",
        " # set to max rows to view the entire dataset of our southern polar zone.\n",
        " #no world bank data on antarctic latitudinal zone\n",
        "antarctic"
      ],
      "execution_count": null,
      "outputs": []
    },
    {
      "cell_type": "code",
      "metadata": {
        "id": "kjwMwa2tgOVx"
      },
      "source": [
        "clean_mig_data.sort_values(by=['incomeLevel', 'net_migration']) \n",
        "#explore the relationship between net migration and income level"
      ],
      "execution_count": null,
      "outputs": []
    },
    {
      "cell_type": "code",
      "metadata": {
        "id": "1nr0uCg1hZEt"
      },
      "source": [
        "# breakthe 4 income level into categories.\n",
        "h_income=clean_mig_data['incomeLevel']=='High income'\n",
        "high_income=clean_mig_data.iloc[h_income.values]\n",
        "l_income=clean_mig_data['incomeLevel']=='Low income'\n",
        "low_income=clean_mig_data.iloc[l_income.values]\n",
        "low_income\n",
        "lm_income=clean_mig_data['incomeLevel']=='Lower middle income'\n",
        "lower_middle_income=clean_mig_data.iloc[lm_income.values]\n",
        "lower_middle_income\n",
        "um_income=clean_mig_data['incomeLevel']=='Upper middle income'\n",
        "upper_middle_income=clean_mig_data.iloc[um_income.values]\n"
      ],
      "execution_count": null,
      "outputs": []
    },
    {
      "cell_type": "code",
      "metadata": {
        "colab": {
          "base_uri": "https://localhost:8080/",
          "height": 313
        },
        "id": "Q8Yadq3MFYGo",
        "outputId": "7e3c1b66-1216-481c-ec5b-62a8f25b936e"
      },
      "source": [
        "#make a scatterplot visualizing the relationship that incomeLevel has with net migration. \n",
        "#Negative integers imply emigration out of, and positive integers imply immigration into, their respective native nation.\n",
        "sns.scatterplot(x = \"population\", y = \"net_migration\", hue='incomeLevel', data = clean_mig_data)"
      ],
      "execution_count": null,
      "outputs": [
        {
          "output_type": "execute_result",
          "data": {
            "text/plain": [
              "<matplotlib.axes._subplots.AxesSubplot at 0x7f30e5981850>"
            ]
          },
          "metadata": {
            "tags": []
          },
          "execution_count": 19
        },
        {
          "output_type": "display_data",
          "data": {
            "image/png": "[encoded data removed]",
            "text/plain": [
              "<Figure size 432x288 with 1 Axes>"
            ]
          },
          "metadata": {
            "tags": [],
            "needs_background": "light"
          }
        }
      ]
    },
    {
      "cell_type": "code",
      "metadata": {
        "colab": {
          "base_uri": "https://localhost:8080/",
          "height": 302
        },
        "id": "FL0_S13tJqlu",
        "outputId": "0f95f395-2797-48e4-c35a-92bfc4a7ffa2"
      },
      "source": [
        "#plot the distribution of net_migration within the classification of High income. observe insignificant frequency of emigration.  \n",
        "sns.histplot(high_income['net_migration'], bins=30, kde=True) "
      ],
      "execution_count": null,
      "outputs": [
        {
          "output_type": "execute_result",
          "data": {
            "text/plain": [
              "<matplotlib.axes._subplots.AxesSubplot at 0x7f30c502fe90>"
            ]
          },
          "metadata": {
            "tags": []
          },
          "execution_count": 46
        },
        {
          "output_type": "display_data",
          "data": {
            "image/png": "[encoded data removed]",
            "text/plain": [
              "<Figure size 432x288 with 1 Axes>"
            ]
          },
          "metadata": {
            "tags": [],
            "needs_background": "light"
          }
        }
      ]
    },
    {
      "cell_type": "code",
      "metadata": {
        "colab": {
          "base_uri": "https://localhost:8080/",
          "height": 303
        },
        "id": "_VfUBPPhKy23",
        "outputId": "0ab184c7-1d75-4639-edb5-db059c67bd5c"
      },
      "source": [
        "#plot the distribution of net_migration within the classification of Upper middle class. The distribtuion is closer to approximately normal.\n",
        "sns.histplot(upper_middle_income['net_migration'], bins=30, kde=True)"
      ],
      "execution_count": null,
      "outputs": [
        {
          "output_type": "execute_result",
          "data": {
            "text/plain": [
              "<matplotlib.axes._subplots.AxesSubplot at 0x7f30c56cef90>"
            ]
          },
          "metadata": {
            "tags": []
          },
          "execution_count": 47
        },
        {
          "output_type": "display_data",
          "data": {
            "image/png": "[encoded data removed]",
            "text/plain": [
              "<Figure size 432x288 with 1 Axes>"
            ]
          },
          "metadata": {
            "tags": [],
            "needs_background": "light"
          }
        }
      ]
    },
    {
      "cell_type": "code",
      "metadata": {
        "colab": {
          "base_uri": "https://localhost:8080/",
          "height": 302
        },
        "id": "WcLn38hlLmct",
        "outputId": "9b803379-edbf-4f2d-bbfb-fef655a8db43"
      },
      "source": [
        "#plot the distribution of net_migration within the classification of lower middle income. \n",
        "#observe skewing and a higher frequency of emigration than immigration.\n",
        "sns.histplot(lower_middle_income['net_migration'], bins=30, kde=True)"
      ],
      "execution_count": null,
      "outputs": [
        {
          "output_type": "execute_result",
          "data": {
            "text/plain": [
              "<matplotlib.axes._subplots.AxesSubplot at 0x7f30c483d0d0>"
            ]
          },
          "metadata": {
            "tags": []
          },
          "execution_count": 48
        },
        {
          "output_type": "display_data",
          "data": {
            "image/png": "[encoded data removed]",
            "text/plain": [
              "<Figure size 432x288 with 1 Axes>"
            ]
          },
          "metadata": {
            "tags": [],
            "needs_background": "light"
          }
        }
      ]
    },
    {
      "cell_type": "code",
      "metadata": {
        "colab": {
          "base_uri": "https://localhost:8080/",
          "height": 305
        },
        "id": "l4-wIByzMbB3",
        "outputId": "73ed9cde-e2cb-47f7-f8f7-6599ad071617"
      },
      "source": [
        "#plot the distribution of net_migration within the classification of low income. \n",
        "#observe skewing and a higher frequency of emigration than immigration.\n",
        "sns.histplot(low_income['net_migration'], bins=30, kde=True)"
      ],
      "execution_count": null,
      "outputs": [
        {
          "output_type": "execute_result",
          "data": {
            "text/plain": [
              "<matplotlib.axes._subplots.AxesSubplot at 0x7f30c4723250>"
            ]
          },
          "metadata": {
            "tags": []
          },
          "execution_count": 49
        },
        {
          "output_type": "display_data",
          "data": {
            "image/png": "[encoded data removed]",
            "text/plain": [
              "<Figure size 432x288 with 1 Axes>"
            ]
          },
          "metadata": {
            "tags": [],
            "needs_background": "light"
          }
        }
      ]
    },
    {
      "cell_type": "code",
      "metadata": {
        "id": "r5yc5HT3m4LA"
      },
      "source": [
        "high_income.describe() #use descritpive statistics "
      ],
      "execution_count": null,
      "outputs": []
    },
    {
      "cell_type": "code",
      "metadata": {
        "id": "YhzeM-Com4VZ"
      },
      "source": [
        "upper_middle_income.describe #use descritpive statistics "
      ],
      "execution_count": null,
      "outputs": []
    },
    {
      "cell_type": "code",
      "metadata": {
        "id": "aISjRASVm4db"
      },
      "source": [
        "lower_middle_income.describe() #use descritpive statistics "
      ],
      "execution_count": null,
      "outputs": []
    },
    {
      "cell_type": "code",
      "metadata": {
        "id": "19y6F9zEm4mw"
      },
      "source": [
        "low_income.describe() #use descritpive statistics "
      ],
      "execution_count": null,
      "outputs": []
    },
    {
      "cell_type": "markdown",
      "metadata": {
        "id": "zpO-DL3YPtoc"
      },
      "source": [
        "**ANCILLARY EDA**\n"
      ]
    },
    {
      "cell_type": "code",
      "metadata": {
        "id": "h79W7jjolwMu"
      },
      "source": [
        "clean_mig_data.sort_values(by=['population', 'net_migration'])  #explore the relationship between population density and net migration"
      ],
      "execution_count": null,
      "outputs": []
    },
    {
      "cell_type": "code",
      "metadata": {
        "colab": {
          "base_uri": "https://localhost:8080/",
          "height": 313
        },
        "id": "kUi7nPWxnyUU",
        "outputId": "67cd79c1-155e-49a5-f942-e08153cbf18b"
      },
      "source": [
        "sns.scatterplot(x='net_migration', y='population', data=clean_mig_data)"
      ],
      "execution_count": null,
      "outputs": [
        {
          "output_type": "execute_result",
          "data": {
            "text/plain": [
              "<matplotlib.axes._subplots.AxesSubplot at 0x7f30d164bc10>"
            ]
          },
          "metadata": {
            "tags": []
          },
          "execution_count": 37
        },
        {
          "output_type": "display_data",
          "data": {
            "image/png": "[encoded data removed]",
            "text/plain": [
              "<Figure size 432x288 with 1 Axes>"
            ]
          },
          "metadata": {
            "tags": [],
            "needs_background": "light"
          }
        }
      ]
    },
    {
      "cell_type": "code",
      "metadata": {
        "colab": {
          "base_uri": "https://localhost:8080/",
          "height": 458
        },
        "id": "xH8uhhcORQQF",
        "outputId": "2d48029e-342f-4238-9a2a-3635f5292826"
      },
      "source": [
        "#run a jointplot combining scatterplot with histogram. \n",
        "#appear abnormal. Ceasing to continue analysis with these two variables.\n",
        "sns.jointplot(x = clean_mig_data[\"net_migration\"], y = clean_mig_data[\"population\"]) "
      ],
      "execution_count": null,
      "outputs": [
        {
          "output_type": "execute_result",
          "data": {
            "text/plain": [
              "<seaborn.axisgrid.JointGrid at 0x7f30b9e406d0>"
            ]
          },
          "metadata": {
            "tags": []
          },
          "execution_count": 58
        },
        {
          "output_type": "display_data",
          "data": {
            "image/png": "[encoded data removed]",
            "text/plain": [
              "<Figure size 432x432 with 3 Axes>"
            ]
          },
          "metadata": {
            "tags": [],
            "needs_background": "light"
          }
        }
      ]
    },
    {
      "cell_type": "code",
      "metadata": {
        "id": "fJXPBP62RRGu"
      },
      "source": [
        "clean_mig_data.sort_values(by='year', ascending=False) #explore the years"
      ],
      "execution_count": null,
      "outputs": []
    },
    {
      "cell_type": "code",
      "metadata": {
        "id": "pUEWXrvpCCXg"
      },
      "source": [
        "#break down the dataset into centuries, 20th and 21st\n",
        "twentieth_century_beta= (clean_mig_data['year']>= '1960-01-01') & (clean_mig_data['year']<='1999-01-01')\n",
        "twenty_first_century_beta=(clean_mig_data['year']>= '2000-01-01') & (clean_mig_data['year']<='2018-01-01')\n",
        "twentieth_century=clean_mig_data.iloc[twentieth_century_beta.values]\n",
        "twenty_first_century=clean_mig_data.iloc[twenty_first_century_beta.values]"
      ],
      "execution_count": null,
      "outputs": []
    },
    {
      "cell_type": "code",
      "metadata": {
        "id": "zkv6PxhpRtY3"
      },
      "source": [
        "twentieth_century.head() # take an abridged review of the data with a header\n"
      ],
      "execution_count": null,
      "outputs": []
    },
    {
      "cell_type": "code",
      "metadata": {
        "id": "6R6xaw_eRsvz"
      },
      "source": [
        "twenty_first_century.head() # take an abridged review of the data with a header"
      ],
      "execution_count": null,
      "outputs": []
    },
    {
      "cell_type": "code",
      "metadata": {
        "colab": {
          "base_uri": "https://localhost:8080/",
          "height": 302
        },
        "id": "KAyn2TVBSLaP",
        "outputId": "d8f711c7-2ca6-42ea-cf33-d5cae8bd7710"
      },
      "source": [
        "#plot the distribution of net migration within the twentieth century.\n",
        "sns.histplot(twentieth_century['net_migration'], bins=30, kde=True)"
      ],
      "execution_count": null,
      "outputs": [
        {
          "output_type": "execute_result",
          "data": {
            "text/plain": [
              "<matplotlib.axes._subplots.AxesSubplot at 0x7f30c46bf690>"
            ]
          },
          "metadata": {
            "tags": []
          },
          "execution_count": 55
        },
        {
          "output_type": "display_data",
          "data": {
            "image/png": "[encoded data removed]",
            "text/plain": [
              "<Figure size 432x288 with 1 Axes>"
            ]
          },
          "metadata": {
            "tags": [],
            "needs_background": "light"
          }
        }
      ]
    },
    {
      "cell_type": "code",
      "metadata": {
        "colab": {
          "base_uri": "https://localhost:8080/",
          "height": 302
        },
        "id": "wK5BQJ8rTdF0",
        "outputId": "110f46af-7c6b-453a-b8b8-726e4cebf466"
      },
      "source": [
        "#plot the distribution of net migration within the twenty first century.\n",
        "sns.histplot(twenty_first_century['net_migration'], bins=30, kde=True)"
      ],
      "execution_count": null,
      "outputs": [
        {
          "output_type": "execute_result",
          "data": {
            "text/plain": [
              "<matplotlib.axes._subplots.AxesSubplot at 0x7f30c4293b50>"
            ]
          },
          "metadata": {
            "tags": []
          },
          "execution_count": 56
        },
        {
          "output_type": "display_data",
          "data": {
            "image/png": "[encoded data removed]",
            "text/plain": [
              "<Figure size 432x288 with 1 Axes>"
            ]
          },
          "metadata": {
            "tags": [],
            "needs_background": "light"
          }
        }
      ]
    },
    {
      "cell_type": "markdown",
      "metadata": {
        "id": "_HM79_eweIhz"
      },
      "source": [
        "# **ANALYZE THE DATASET**"
      ]
    },
    {
      "cell_type": "markdown",
      "metadata": {
        "id": "ZB_Dkx7dmicn"
      },
      "source": [
        "**null hypothesis 1:**  From 1960 to 2018, there is no statistical significance in net migration among those who qualify as falling into the “High” income level/tier per World Bank classifications, compared to those those who qualify at lower income levels/tiers.\n",
        "\n",
        "\n",
        "\n"
      ]
    },
    {
      "cell_type": "code",
      "metadata": {
        "colab": {
          "base_uri": "https://localhost:8080/"
        },
        "id": "Jvu6rNsNjxcx",
        "outputId": "d9eb7976-e427-4955-aac7-94f6c66c1db2"
      },
      "source": [
        "#run a ttest.\n",
        "stats.ttest_ind(high_income['net_migration'], low_income['net_migration']) #there is statistical significance "
      ],
      "execution_count": null,
      "outputs": [
        {
          "output_type": "execute_result",
          "data": {
            "text/plain": [
              "Ttest_indResult(statistic=6.468909002118691, pvalue=1.5363433954191008e-10)"
            ]
          },
          "metadata": {
            "tags": []
          },
          "execution_count": 76
        }
      ]
    },
    {
      "cell_type": "code",
      "metadata": {
        "colab": {
          "base_uri": "https://localhost:8080/"
        },
        "id": "MMQdjJCUkU7z",
        "outputId": "392cfe1f-fb3c-44f7-a1ed-d5df13040ada"
      },
      "source": [
        "#run a ttest\n",
        "stats.ttest_ind(high_income['net_migration'], lower_middle_income['net_migration']) #there is statistical significance "
      ],
      "execution_count": null,
      "outputs": [
        {
          "output_type": "execute_result",
          "data": {
            "text/plain": [
              "Ttest_indResult(statistic=10.1406387592726, pvalue=2.4766292829677352e-23)"
            ]
          },
          "metadata": {
            "tags": []
          },
          "execution_count": 77
        }
      ]
    },
    {
      "cell_type": "code",
      "metadata": {
        "colab": {
          "base_uri": "https://localhost:8080/"
        },
        "id": "4tGnG2FBkx88",
        "outputId": "d54744ce-cfaa-48cb-e91d-87b63487ca42"
      },
      "source": [
        "#run a ttest\n",
        "stats.ttest_ind(high_income['net_migration'], upper_middle_income['net_migration']) #there is statistical significance "
      ],
      "execution_count": null,
      "outputs": [
        {
          "output_type": "execute_result",
          "data": {
            "text/plain": [
              "Ttest_indResult(statistic=7.618123458591516, pvalue=4.9412638851495306e-14)"
            ]
          },
          "metadata": {
            "tags": []
          },
          "execution_count": 78
        }
      ]
    },
    {
      "cell_type": "code",
      "metadata": {
        "id": "FXUWo9fce0yn"
      },
      "source": [
        "#prepare for pearson r. make categories equal length.\n",
        "pr_high_income=high_income[399:699]\n",
        "pr_low_income=low_income[0:300]\n"
      ],
      "execution_count": null,
      "outputs": []
    },
    {
      "cell_type": "code",
      "metadata": {
        "colab": {
          "base_uri": "https://localhost:8080/"
        },
        "id": "Ix7ZCqRBuznI",
        "outputId": "6889d1fa-f2fd-4593-fe37-ca4ec4905f2f"
      },
      "source": [
        "#run a pearson r. test for correlation\n",
        "stats.pearsonr(pr_high_income['net_migration'],pr_low_income['net_migration']) #weak, non linear relationship."
      ],
      "execution_count": null,
      "outputs": [
        {
          "output_type": "execute_result",
          "data": {
            "text/plain": [
              "(-0.2291042430186374, 6.200865353989255e-05)"
            ]
          },
          "metadata": {
            "tags": []
          },
          "execution_count": 92
        }
      ]
    },
    {
      "cell_type": "markdown",
      "metadata": {
        "id": "2BqTVbeGntVo"
      },
      "source": [
        "**null hypothesis 2**: There is no statistical significance in net migration among nations that lie within tropical latitudinal zones when compared with nations that lie within both the northern as well as southern subtropical latitudinal zones, from 1960 to 2018, respectively. \n"
      ]
    },
    {
      "cell_type": "code",
      "metadata": {
        "colab": {
          "base_uri": "https://localhost:8080/"
        },
        "id": "IeRUMfRpUgxn",
        "outputId": "8dddb401-d698-452a-df87-12be968facdb"
      },
      "source": [
        "stats.ttest_ind(tropics['net_migration'], subtropics_north['net_migration']) #run a ttest. There is statistical significance. "
      ],
      "execution_count": null,
      "outputs": [
        {
          "output_type": "execute_result",
          "data": {
            "text/plain": [
              "Ttest_indResult(statistic=-5.3351012341274515, pvalue=1.0573350191989725e-07)"
            ]
          },
          "metadata": {
            "tags": []
          },
          "execution_count": 70
        }
      ]
    },
    {
      "cell_type": "code",
      "metadata": {
        "colab": {
          "base_uri": "https://localhost:8080/"
        },
        "id": "h95O1jXDFP7U",
        "outputId": "fee1887e-9259-490d-a9fb-0c8de1a2498f"
      },
      "source": [
        "stats.ttest_ind(tropics['net_migration'], subtropics_south['net_migration']) #run a ttest. There is statistical significance.  "
      ],
      "execution_count": null,
      "outputs": [
        {
          "output_type": "execute_result",
          "data": {
            "text/plain": [
              "Ttest_indResult(statistic=-5.210762132470359, pvalue=2.1821066314405615e-07)"
            ]
          },
          "metadata": {
            "tags": []
          },
          "execution_count": 71
        }
      ]
    },
    {
      "cell_type": "code",
      "metadata": {
        "colab": {
          "base_uri": "https://localhost:8080/"
        },
        "id": "ZOrdWUniFjwh",
        "outputId": "32b75c1b-5c54-4638-93f7-b30a1c03f20b"
      },
      "source": [
        "stats.ttest_ind(subtropics_south['net_migration'], subtropics_north['net_migration']) #run a ttest. There is no statistical significance.  "
      ],
      "execution_count": null,
      "outputs": [
        {
          "output_type": "execute_result",
          "data": {
            "text/plain": [
              "Ttest_indResult(statistic=0.09458938968656022, pvalue=0.9246589054167256)"
            ]
          },
          "metadata": {
            "tags": []
          },
          "execution_count": 72
        }
      ]
    },
    {
      "cell_type": "code",
      "metadata": {
        "colab": {
          "base_uri": "https://localhost:8080/"
        },
        "id": "8uxFfK09F14c",
        "outputId": "e7e0803e-9a23-4b61-de8f-4bde72b3f5bb"
      },
      "source": [
        "stats.ttest_ind(arctic['net_migration'], subtropics_south['net_migration']) #run a ttest. There is no statistical significance.  "
      ],
      "execution_count": null,
      "outputs": [
        {
          "output_type": "execute_result",
          "data": {
            "text/plain": [
              "Ttest_indResult(statistic=-1.1067739106905525, pvalue=0.2701175185934031)"
            ]
          },
          "metadata": {
            "tags": []
          },
          "execution_count": 73
        }
      ]
    },
    {
      "cell_type": "code",
      "metadata": {
        "colab": {
          "base_uri": "https://localhost:8080/"
        },
        "id": "4Tkp7wWV5GXT",
        "outputId": "5afe916b-a2ab-44cf-c4ce-857aa2c79feb"
      },
      "source": [
        "#run a pearson r. test for correlation\n",
        "stats.pearsonr(clean_mig_data['net_migration'],clean_mig_data['latitude']) #there no strong correlation or linear relationship. "
      ],
      "execution_count": null,
      "outputs": [
        {
          "output_type": "execute_result",
          "data": {
            "text/plain": [
              "(0.06939182960004266, 0.0009509237384371732)"
            ]
          },
          "metadata": {
            "tags": []
          },
          "execution_count": 98
        }
      ]
    },
    {
      "cell_type": "code",
      "metadata": {
        "colab": {
          "base_uri": "https://localhost:8080/"
        },
        "id": "8-zxGa3uHTnJ",
        "outputId": "31a37092-2530-41f2-e140-57d62630ee3f"
      },
      "source": [
        "stats.ttest_ind(twentieth_century['net_migration'], twenty_first_century['net_migration']) #run a tttest. no statistical significance"
      ],
      "execution_count": null,
      "outputs": [
        {
          "output_type": "execute_result",
          "data": {
            "text/plain": [
              "Ttest_indResult(statistic=0.11348510495023996, pvalue=0.9096560376463928)"
            ]
          },
          "metadata": {
            "tags": []
          },
          "execution_count": 75
        }
      ]
    },
    {
      "cell_type": "markdown",
      "metadata": {
        "id": "pPwVCi_e7fDP"
      },
      "source": [
        "Null hypothesis #1. We can reject the null. From 1960 to 2018, there is statistical significance in net migration among those who qualify as falling into the “High” income level/tier per World Bank classifications, compared to those those who qualify at lower income levels/tiers. \n",
        "\n",
        "Null Hypthesis #2.  We can reject the null. There is statistical significance in net migration among nations that lie within tropical latitudinal zones when compared with nations that lie within both the northern as well as southern subtropical latitudinal zones, from 1960 to 2018, respectively. "
      ]
    }
  ]
}